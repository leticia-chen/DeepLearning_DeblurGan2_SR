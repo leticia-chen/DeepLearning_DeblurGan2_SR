{
  "cells": [
    {
      "cell_type": "markdown",
      "metadata": {
        "id": "view-in-github",
        "colab_type": "text"
      },
      "source": [
        "<a href=\"https://colab.research.google.com/github/leticia-chen/DeepLearning_DeblurGan2_SR/blob/main/DeblurGanv2_SR_demo.ipynb\" target=\"_parent\"><img src=\"https://colab.research.google.com/assets/colab-badge.svg\" alt=\"Open In Colab\"/></a>"
      ]
    },
    {
      "cell_type": "code",
      "execution_count": null,
      "metadata": {
        "colab": {
          "base_uri": "https://localhost:8080/"
        },
        "id": "LWoNZ_SBwELJ",
        "outputId": "f29aae7e-3d6c-4fa9-e30c-526853b78aa9"
      },
      "outputs": [
        {
          "output_type": "stream",
          "name": "stdout",
          "text": [
            "Mounted at /content/drive\n"
          ]
        }
      ],
      "source": [
        "# this mounts your Google Drive to the Colab VM.\n",
        "from google.colab import drive\n",
        "drive.mount('/content/drive', force_remount=True)"
      ]
    },
    {
      "cell_type": "code",
      "execution_count": null,
      "metadata": {
        "id": "LcXnjmVj4f-s"
      },
      "outputs": [],
      "source": [
        "# 請輸入資料夾之所在位置\n",
        "FOLDERNAME = 'Colab\\ Notebooks/DeblurGanv2-SR'\n",
        "assert FOLDERNAME is not None, \"[!] Enter the foldername.\""
      ]
    },
    {
      "cell_type": "code",
      "execution_count": null,
      "metadata": {
        "id": "agGzyQEAdle2"
      },
      "outputs": [],
      "source": [
        "# now that we've mounted your Drive, this ensures that\n",
        "# the Python interpreter of the Colab VM can load\n",
        "# python files from within it.\n",
        "import sys\n",
        "sys.path.append('/content/drive/MyDrive/{}'.format(FOLDERNAME))"
      ]
    },
    {
      "cell_type": "code",
      "execution_count": null,
      "metadata": {
        "colab": {
          "base_uri": "https://localhost:8080/"
        },
        "id": "S55syBAAdrSD",
        "outputId": "4ea6ac65-7867-4a35-b979-0697a3ba1da8"
      },
      "outputs": [
        {
          "output_type": "stream",
          "name": "stdout",
          "text": [
            "/content/drive/MyDrive/Colab Notebooks/DeblurGanv2-SR\n"
          ]
        }
      ],
      "source": [
        "# Get to the folder we are at\n",
        "%cd drive/MyDrive/$FOLDERNAME/"
      ]
    },
    {
      "cell_type": "code",
      "execution_count": null,
      "metadata": {
        "colab": {
          "base_uri": "https://localhost:8080/"
        },
        "id": "fCmjYycxdsXr",
        "outputId": "f4efed08-24e5-4865-93ec-e9a4e1424213"
      },
      "outputs": [
        {
          "output_type": "stream",
          "name": "stdout",
          "text": [
            "using device: cpu\n"
          ]
        }
      ],
      "source": [
        "import torch\n",
        "device = torch.device('cuda' if torch.cuda.is_available() else 'cpu')\n",
        "\n",
        "print('using device:', device)"
      ]
    },
    {
      "cell_type": "code",
      "execution_count": null,
      "metadata": {
        "id": "VSS06gFmnA77"
      },
      "outputs": [],
      "source": [
        "%ls"
      ]
    },
    {
      "cell_type": "markdown",
      "metadata": {
        "id": "iIItgD9XBMix"
      },
      "source": [
        "Generator: Residual block, Upsample block, Generator net"
      ]
    },
    {
      "cell_type": "code",
      "execution_count": null,
      "metadata": {
        "id": "MqyA0ykbe3T7"
      },
      "outputs": [],
      "source": [
        "import math\n",
        "import torch\n",
        "from torch import nn\n",
        "\n",
        "class ResidualBlock(nn.Module):\n",
        "  def __init__(self, channels):                                 \n",
        "    super(ResidualBlock, self).__init__()\n",
        "    # in_channel X out_channel X kernel X padding\n",
        "    # channels = 64                                                   # 这个数字待定?\n",
        "    self.conv1 = nn.Conv2d(channels, channels, kernel_size=3, padding=1)\n",
        "    self.bn1 = nn.BatchNorm2d(channels, 0.8)                          # 此架构的作者并没放 0.8, 其它架构作者皆有放 0.8, 0.8 意义为何 ?\n",
        "    self.prelu = nn.PReLU(channels)\n",
        "    self.conv2 = nn.Conv2d(channels, channels, kernel_size=3, padding=1)\n",
        "    self.bn2 = nn.BatchNorm2d(channels, 0.8)\n",
        "\n",
        "  def forward(self, x):\n",
        "    short_cut = x\n",
        "    x = self.conv1(x)\n",
        "    x = self.bn1(x)\n",
        "    x = self.prelu(x)\n",
        "    x = self.conv2(x)\n",
        "    x = self.bn2(x)\n",
        "\n",
        "    return x + short_cut"
      ]
    },
    {
      "cell_type": "code",
      "execution_count": null,
      "metadata": {
        "id": "ZvPjkkUWedoR"
      },
      "outputs": [],
      "source": [
        "class UpsampleBlock(nn.Module):\n",
        "  def __init__(self, in_channels, up_scale):                           # 参数待定\n",
        "    super(UpsampleBlock, self).__init__()\n",
        "    self.conv = nn.Conv2d(in_channels, in_channels*up_scale**2, kernel_size=3, padding=1)      # 64->256\n",
        "    self.pixel_suffle = nn.PixelShuffle(up_scale)\n",
        "    self.prelu = nn.PReLU(in_channels)\n",
        "\n",
        "  def forward(self, x):\n",
        "    x = self.conv(x)\n",
        "    x = self.pixel_suffle(x)\n",
        "    x = self.prelu(x)\n",
        "    return(x)\n"
      ]
    },
    {
      "cell_type": "code",
      "execution_count": null,
      "metadata": {
        "id": "IKlVCDU7zE-m"
      },
      "outputs": [],
      "source": [
        "class NetG(nn.Module):\n",
        "  def __init__(self, num_residual=16):                       # 参数待定      \n",
        "\n",
        "    super(NetG, self).__init__()\n",
        "\n",
        "    # First layer\n",
        "    self.conv1 = nn.Sequential(\n",
        "        nn.Conv2d(3, 64, kernel_size=9, padding=4),                 # out 64 是否要改\n",
        "        nn.PReLU(64)\n",
        "    )\n",
        "\n",
        "    # Residual blocks\n",
        "    self.res_blocks = []\n",
        "    for _ in range(num_residual):\n",
        "      self.res_blocks.append(ResidualBlock(64))\n",
        "    self.res_blocks = nn.Sequential(*self.res_blocks)\n",
        "\n",
        "    # Second conv layer pos residual\n",
        "    self.conv2 = nn.Sequential(\n",
        "        nn.Conv2d(64, 64, kernel_size=3, padding=1),\n",
        "        nn.BatchNorm2d(64, 0.8)\n",
        "    )\n",
        "\n",
        "    # Upsampling layer\n",
        "    self.upsample = []\n",
        "    for _ in range(2):\n",
        "      self.upsample.append(UpsampleBlock(64, 2))\n",
        "    self.upsample = nn.Sequential(*self.upsample)\n",
        "    # 原写法\n",
        "    # self.upsample = [UpsampleBlock(64, 2) for _ in range(2)]\n",
        "    # self.upsample.append(nn.Conv2d(64,3), kernel_size=9, padding=4)\n",
        "    # self.upsample = nn.Sequential(*self.upsample)\n",
        "\n",
        "    # the last conv layer\n",
        "    self.conv3 = nn.Sequential(\n",
        "        nn.Conv2d(64, 3, kernel_size=9, stride= 1, padding=4),\n",
        "        nn.Tanh())\n",
        "\n",
        "  def forward(self, x):\n",
        "    x = self.conv1(x)\n",
        "    short_cut = x\n",
        "    x = self.res_blocks(x)\n",
        "    x = self.conv2(x)\n",
        "    x = x + short_cut\n",
        "    x = self.upsample(x)\n",
        "    out = self.conv3(x)\n",
        "\n",
        "    return out\n"
      ]
    },
    {
      "cell_type": "markdown",
      "metadata": {
        "id": "qRBBP5Rd0xNq"
      },
      "source": [
        "Inicialization"
      ]
    },
    {
      "cell_type": "code",
      "execution_count": null,
      "metadata": {
        "id": "2Ui6fLgZ0KXR"
      },
      "outputs": [],
      "source": [
        "netG = NetG().to(device)"
      ]
    },
    {
      "cell_type": "markdown",
      "source": [
        "Demo"
      ],
      "metadata": {
        "id": "-lacxjj2NUp6"
      }
    },
    {
      "cell_type": "code",
      "source": [
        "# from torchvision.io import read_image\n",
        "# import cv2\n",
        "import numpy as np\n",
        "import torchvision.transforms as transforms\n",
        "from PIL import Image\n",
        "from torch.autograd import Variable\n",
        "# import sys\n",
        "# import itertools\n",
        "from torchvision.utils import save_image, make_grid\n",
        "# import torch.nn.functional as F\n",
        "import torch\n",
        "# from torch.utils.data import DataLoader\n",
        "import matplotlib.pyplot as plt\n",
        "\n",
        "mean = np.array([0.485, 0.456, 0.406])\n",
        "std = np.array([0.229, 0.224, 0.225])\n",
        "\n",
        "# Better performance mode-checkpoint\n",
        "model08 = 'models_checkpoint_by_Jay/generator_8.pth'\n",
        "model41 = 'models_checkpoint_by_Jay/generator_41.pth'\n",
        "model56 = 'models_checkpoint_by_Jay/generator_56.pth'\n",
        "model47 = 'models_checkpoint_by_Jay/generator_47.pth'\n",
        "\n",
        "models = [model08, model41, model56, model47]\n",
        "\n",
        "def trans(img):\n",
        "\n",
        "  image = Image.open(img).convert('RGB')\n",
        "  w, h = image.size\n",
        "  # print('img:', image.size) # (1280, 720)\n",
        "\n",
        "  transform = transforms.Compose([\n",
        "      transforms.Resize((h // 4, w // 4), Image.BICUBIC), \n",
        "      transforms.ToTensor(), \n",
        "      transforms.Normalize(mean, std)])\n",
        "  \n",
        "  image = transform(image)\n",
        "  # print(image.shape)                         # torch.Size([3, 720, 1280])\n",
        "  # print(next(iter(image)).shape)          # torch.Size([720, 1280])\n",
        "  image = image.unsqueeze(dim=0)      # 如果没有这行，回传的 tensor 的 channel 不见\n",
        "  # print(image.shape)                        # torch.Size([1, 3, 180, 320])\n",
        "\n",
        "  return image\n"
      ],
      "metadata": {
        "id": "xw6yshcHj9mT"
      },
      "execution_count": null,
      "outputs": []
    },
    {
      "cell_type": "code",
      "source": [
        "def get_img(img):\n",
        "\n",
        "  model_name = []\n",
        "  model_num = []\n",
        "  fake_img_lst = []\n",
        "  for model in models:\n",
        "\n",
        "    num = ''\n",
        "    for n in model:\n",
        "      if n.isdigit():\n",
        "        num += n\n",
        "    model_num.append(num)\n",
        "\n",
        "    # map_location=torch.device() 当为 cpu 需有 map_location\n",
        "    netG.load_state_dict(torch.load(model, map_location=torch.device(device))) \n",
        "    netG.eval()\n",
        "\n",
        "    img = Variable(img.to(device))\n",
        "    img = img.data    # Variable 张量转为 tensor\n",
        "    netG.zero_grad()                           \n",
        "    fake_imgs = netG(img)\n",
        "\n",
        "    model_name.append(model)\n",
        "    fake_imgs = nn.functional.interpolate(fake_imgs, scale_factor=4)\n",
        "    fake_imgs = make_grid(fake_imgs, padding=3, normalize=True)\n",
        "    fake_imgs = fake_imgs.permute(1,2,0)            # 没有会出错\n",
        "    fake_img_lst.append(fake_imgs) \n",
        "  \n",
        "  # print(model_name)\n",
        "  # print(model_num)\n",
        "  plt.figure(figsize=(17,10))\n",
        "  for j in range(len(fake_img_lst)):\n",
        "    out_img = fake_img_lst[j].squeeze()\n",
        "    # out_img = out_img.permute(1,2,0)\n",
        "    ax = plt.subplot(2,2,j+1)\n",
        "    ax.set_title('Model'+ str(model_num[j]))\n",
        "    ax.imshow(out_img)\n",
        "  plt.show()\n"
      ],
      "metadata": {
        "id": "MMSBIUDDORUY"
      },
      "execution_count": null,
      "outputs": []
    },
    {
      "cell_type": "code",
      "source": [
        "import os\n",
        "# import numpy as np\n",
        "# from torch.utils.data import DataLoader\n",
        "\n",
        "demo_files = 'imgs_for_demo'\n",
        "\n",
        "demo_file_paths = []\n",
        "files = os.listdir(demo_files)                                \n",
        "\n",
        "for file in files:\n",
        "  demo_file = os.path.join(demo_files, file)\n",
        "  demo_file_paths.append(demo_file)\n",
        "\n",
        "for img in demo_file_paths:\n",
        "  img = trans(img)\n",
        "  img = get_img(img)\n",
        "\n",
        "print(demo_file_paths)\n",
        "print(len(demo_file_paths))\n",
        "# for k in range(9, len(demo_file_paths)):\n",
        "#   img = trans(demo_file_paths[k])\n",
        "#   img = get_img(img)\n"
      ],
      "metadata": {
        "id": "No_zqXlUOter"
      },
      "execution_count": null,
      "outputs": []
    }
  ],
  "metadata": {
    "colab": {
      "provenance": [],
      "include_colab_link": true
    },
    "gpuClass": "premium",
    "kernelspec": {
      "display_name": "Python 3",
      "name": "python3"
    },
    "language_info": {
      "name": "python"
    }
  },
  "nbformat": 4,
  "nbformat_minor": 0
}