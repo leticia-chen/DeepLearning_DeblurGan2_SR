{
  "nbformat": 4,
  "nbformat_minor": 0,
  "metadata": {
    "colab": {
      "provenance": [],
      "authorship_tag": "ABX9TyM+8+O3STti7B0ad9GIFmIk",
      "include_colab_link": true
    },
    "kernelspec": {
      "name": "python3",
      "display_name": "Python 3"
    },
    "language_info": {
      "name": "python"
    },
    "accelerator": "GPU",
    "gpuClass": "standard"
  },
  "cells": [
    {
      "cell_type": "markdown",
      "metadata": {
        "id": "view-in-github",
        "colab_type": "text"
      },
      "source": [
        "<a href=\"https://colab.research.google.com/github/leticia-chen/DeepLearning_DeblurGan2_SR/blob/main/get_deblured_dataset.ipynb\" target=\"_parent\"><img src=\"https://colab.research.google.com/assets/colab-badge.svg\" alt=\"Open In Colab\"/></a>"
      ]
    },
    {
      "cell_type": "markdown",
      "source": [
        "To get deblured images from DeblurGANv2 - Theses images will be dataset of SRGAN"
      ],
      "metadata": {
        "id": "C_hHzUgIe2eG"
      }
    },
    {
      "cell_type": "code",
      "execution_count": null,
      "metadata": {
        "id": "N-69AEx4SJpK",
        "colab": {
          "base_uri": "https://localhost:8080/"
        },
        "outputId": "317d3beb-418f-467a-9fc5-0f4e9f1740d4"
      },
      "outputs": [
        {
          "output_type": "stream",
          "name": "stdout",
          "text": [
            "Mounted at /content/drive\n"
          ]
        }
      ],
      "source": [
        "# this mounts your Google Drive to the Colab VM.\n",
        "from google.colab import drive\n",
        "drive.mount('/content/drive', force_remount=True)"
      ]
    },
    {
      "cell_type": "code",
      "source": [
        "# 請輸入資料夾之所在位置\n",
        "FOLDERNAME = 'Colab\\ Notebooks/DeblurGANv2'\n",
        "assert FOLDERNAME is not None, \"[!] Enter the foldername.\""
      ],
      "metadata": {
        "id": "Yv95B7Zmdz90"
      },
      "execution_count": null,
      "outputs": []
    },
    {
      "cell_type": "code",
      "source": [
        "# now that we've mounted your Drive, this ensures that\n",
        "# the Python interpreter of the Colab VM can load\n",
        "# python files from within it.\n",
        "import sys\n",
        "sys.path.append('/content/drive/MyDrive/{}'.format(FOLDERNAME))"
      ],
      "metadata": {
        "id": "yX3xnamFd3uM"
      },
      "execution_count": null,
      "outputs": []
    },
    {
      "cell_type": "code",
      "source": [
        "# Get to the folder we are at\n",
        "%cd drive/MyDrive/$FOLDERNAME/"
      ],
      "metadata": {
        "id": "A5ic5O-pd8Ly",
        "colab": {
          "base_uri": "https://localhost:8080/"
        },
        "outputId": "b6c3ab57-ba64-4514-d05c-05649322bc0e"
      },
      "execution_count": null,
      "outputs": [
        {
          "output_type": "stream",
          "name": "stdout",
          "text": [
            "/content/drive/MyDrive/Colab Notebooks/DeblurGANv2\n"
          ]
        }
      ]
    },
    {
      "cell_type": "code",
      "source": [
        "import torch\n",
        "device = torch.device('cuda' if torch.cuda.is_available() else 'cpu')\n",
        "\n",
        "print('using device:', device)"
      ],
      "metadata": {
        "id": "WTLBbN07d8KA",
        "colab": {
          "base_uri": "https://localhost:8080/"
        },
        "outputId": "b7a5764b-d047-447c-d603-f1b5293a3784"
      },
      "execution_count": null,
      "outputs": [
        {
          "output_type": "stream",
          "name": "stdout",
          "text": [
            "using device: cpu\n"
          ]
        }
      ]
    },
    {
      "cell_type": "code",
      "source": [
        "if hasattr(torch.cuda, 'empty_cache'):\n",
        "    torch.cuda.empty_cache()"
      ],
      "metadata": {
        "id": "A8QbqSKyeGzi"
      },
      "execution_count": null,
      "outputs": []
    },
    {
      "cell_type": "code",
      "source": [
        "%ls"
      ],
      "metadata": {
        "id": "xHxk8rl6eOvQ",
        "colab": {
          "base_uri": "https://localhost:8080/"
        },
        "outputId": "9c6d177a-3aad-4eac-bb9b-676cc71043df"
      },
      "execution_count": null,
      "outputs": [
        {
          "output_type": "stream",
          "name": "stdout",
          "text": [
            "\u001b[0m\u001b[01;34mDeblurGANv2\u001b[0m/  get_deblured_dataset.ipynb\n"
          ]
        }
      ]
    },
    {
      "cell_type": "markdown",
      "source": [
        "Cloning a repository is typically only done once, Once you have cloned a repository, you won't need to clone it again"
      ],
      "metadata": {
        "id": "dATeKbHPpxqA"
      }
    },
    {
      "cell_type": "code",
      "source": [
        "# ! git clone https://github.com/VITA-Group/DeblurGANv2"
      ],
      "metadata": {
        "id": "M8ss-IE4k7Rv"
      },
      "execution_count": null,
      "outputs": []
    },
    {
      "cell_type": "code",
      "source": [
        "!cd  ./DeblurGANv2"
      ],
      "metadata": {
        "id": "tNkZ0KmzokPl"
      },
      "execution_count": null,
      "outputs": []
    },
    {
      "cell_type": "markdown",
      "source": [
        "Cloning 'requirements.txt' is typically only done once, Once you have cloned it, you won't need to clone it again"
      ],
      "metadata": {
        "id": "X0gLsdLbqY2D"
      }
    },
    {
      "cell_type": "code",
      "source": [
        "# ! pip install -r ./DeblurGANv2/requirements.txt "
      ],
      "metadata": {
        "id": "w6KicOJbovlK"
      },
      "execution_count": null,
      "outputs": []
    },
    {
      "cell_type": "code",
      "source": [
        "%pwd "
      ],
      "metadata": {
        "colab": {
          "base_uri": "https://localhost:8080/",
          "height": 35
        },
        "id": "5qJJ5sGTw2vl",
        "outputId": "22d49413-239d-42c6-fa89-376e9acbedf0"
      },
      "execution_count": null,
      "outputs": [
        {
          "output_type": "execute_result",
          "data": {
            "text/plain": [
              "'/content/drive/MyDrive/Colab Notebooks/DeblurGANv2'"
            ],
            "application/vnd.google.colaboratory.intrinsic+json": {
              "type": "string"
            }
          },
          "metadata": {},
          "execution_count": 11
        }
      ]
    },
    {
      "cell_type": "code",
      "source": [
        "import os\n",
        "os.chdir('./DeblurGANv2')\n",
        "%pwd"
      ],
      "metadata": {
        "id": "z7xVUBGVpYuO"
      },
      "execution_count": null,
      "outputs": []
    },
    {
      "cell_type": "code",
      "source": [
        "!ls"
      ],
      "metadata": {
        "id": "Mahdxhgv2B3g"
      },
      "execution_count": null,
      "outputs": []
    },
    {
      "cell_type": "markdown",
      "source": [
        "To get pre-trained model 'fpn_inception.h5'"
      ],
      "metadata": {
        "id": "V13KeR30q8t2"
      }
    },
    {
      "cell_type": "code",
      "source": [
        "#### only execute one time ####\n",
        "# !wget -O fpn_inception.h5 'https://docs.google.com/uc?export=download&id=1UXcsRVW-6KF23_TNzxw-xC0SzaMfXOaR&confirm=t' #https://drive.google.com/open?id=1UXcsRVW-6KF23_TNzxw-xC0SzaMfXOaR&authuser=0"
      ],
      "metadata": {
        "id": "VUnX6Jvh7_uA"
      },
      "execution_count": null,
      "outputs": []
    },
    {
      "cell_type": "code",
      "source": [
        "#### only execute one time ####\n",
        "# !wget -O inceptionresnetv2-520b38e4.pth http://data.lip6.fr/cadene/pretrainedmodels/inceptionresnetv2-520b38e4.pth --no-check-certificate"
      ],
      "metadata": {
        "id": "Y6Sn71yCGuUU"
      },
      "execution_count": null,
      "outputs": []
    },
    {
      "cell_type": "code",
      "source": [
        "! cp inceptionresnetv2-520b38e4.pth /root/.cache/torch/hub/checkpoints/"
      ],
      "metadata": {
        "id": "_3cAVJM-QTzh"
      },
      "execution_count": null,
      "outputs": []
    },
    {
      "cell_type": "markdown",
      "source": [
        "All blur images shall be in 'dataset1/blur' before executing predict1.py"
      ],
      "metadata": {
        "id": "AKy90yNGrZh9"
      }
    },
    {
      "cell_type": "code",
      "source": [
        "! python predict1.py "
      ],
      "metadata": {
        "id": "iuA-exRzeInm"
      },
      "execution_count": null,
      "outputs": []
    },
    {
      "cell_type": "markdown",
      "source": [
        "Images deblured will be storaged in 'submit'"
      ],
      "metadata": {
        "id": "elP7Sb1lsO1X"
      }
    },
    {
      "cell_type": "code",
      "source": [
        "!ls submit/"
      ],
      "metadata": {
        "colab": {
          "base_uri": "https://localhost:8080/"
        },
        "id": "KTtJIv47QO_0",
        "outputId": "25a0392e-0262-4dd4-a8db-60ba628a1893"
      },
      "execution_count": null,
      "outputs": [
        {
          "output_type": "stream",
          "name": "stdout",
          "text": [
            "000001.png  000145.png\tGOPR0372_07_00000048.png\n",
            "000019.png  000201.png\tGOPR0884_11_00000285.png\n"
          ]
        }
      ]
    }
  ]
}